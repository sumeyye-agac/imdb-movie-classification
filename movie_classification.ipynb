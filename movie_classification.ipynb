{
  "nbformat": 4,
  "nbformat_minor": 0,
  "metadata": {
    "kernelspec": {
      "display_name": "Python 3",
      "language": "python",
      "name": "python3"
    },
    "language_info": {
      "codemirror_mode": {
        "name": "ipython",
        "version": 3
      },
      "file_extension": ".py",
      "mimetype": "text/x-python",
      "name": "python",
      "nbconvert_exporter": "python",
      "pygments_lexer": "ipython3",
      "version": "3.8.5"
    },
    "colab": {
      "name": "movie_classification.ipynb",
      "provenance": [],
      "collapsed_sections": []
    }
  },
  "cells": [
    {
      "cell_type": "markdown",
      "metadata": {
        "id": "DldmH-bJMrom"
      },
      "source": [
        "**Task 1:**\n",
        "\n",
        "Genre column includes multiple genres related to that movie. Build a bag of words representation of Genre column for each row."
      ]
    },
    {
      "cell_type": "code",
      "metadata": {
        "id": "wl8QwJWhkLBg"
      },
      "source": [
        "import pandas as pd\n",
        "import numpy as np"
      ],
      "execution_count": null,
      "outputs": []
    },
    {
      "cell_type": "code",
      "metadata": {
        "colab": {
          "base_uri": "https://localhost:8080/",
          "height": 237
        },
        "id": "vQTFLNXHkLBj",
        "outputId": "cb8fe49b-11ea-493d-9f97-d53a05156aa3"
      },
      "source": [
        "movies_df = pd.read_csv(\"IMDB-Movie-Data.csv\") # load dataset\n",
        "movies_df.head(3) # visualize first 3 rows"
      ],
      "execution_count": null,
      "outputs": [
        {
          "output_type": "execute_result",
          "data": {
            "text/html": [
              "<div>\n",
              "<style scoped>\n",
              "    .dataframe tbody tr th:only-of-type {\n",
              "        vertical-align: middle;\n",
              "    }\n",
              "\n",
              "    .dataframe tbody tr th {\n",
              "        vertical-align: top;\n",
              "    }\n",
              "\n",
              "    .dataframe thead th {\n",
              "        text-align: right;\n",
              "    }\n",
              "</style>\n",
              "<table border=\"1\" class=\"dataframe\">\n",
              "  <thead>\n",
              "    <tr style=\"text-align: right;\">\n",
              "      <th></th>\n",
              "      <th>Rank</th>\n",
              "      <th>Title</th>\n",
              "      <th>Genre</th>\n",
              "      <th>Description</th>\n",
              "      <th>Director</th>\n",
              "      <th>Actors</th>\n",
              "      <th>Year</th>\n",
              "      <th>Runtime (Minutes)</th>\n",
              "      <th>Rating</th>\n",
              "      <th>Votes</th>\n",
              "      <th>Revenue (Millions)</th>\n",
              "      <th>Metascore</th>\n",
              "    </tr>\n",
              "  </thead>\n",
              "  <tbody>\n",
              "    <tr>\n",
              "      <th>0</th>\n",
              "      <td>1</td>\n",
              "      <td>Guardians of the Galaxy</td>\n",
              "      <td>Action,Adventure,Sci-Fi</td>\n",
              "      <td>A group of intergalactic criminals are forced ...</td>\n",
              "      <td>James Gunn</td>\n",
              "      <td>Chris Pratt, Vin Diesel, Bradley Cooper, Zoe S...</td>\n",
              "      <td>2014</td>\n",
              "      <td>121</td>\n",
              "      <td>8.1</td>\n",
              "      <td>757074</td>\n",
              "      <td>333.13</td>\n",
              "      <td>76.0</td>\n",
              "    </tr>\n",
              "    <tr>\n",
              "      <th>1</th>\n",
              "      <td>2</td>\n",
              "      <td>Prometheus</td>\n",
              "      <td>Adventure,Mystery,Sci-Fi</td>\n",
              "      <td>Following clues to the origin of mankind, a te...</td>\n",
              "      <td>Ridley Scott</td>\n",
              "      <td>Noomi Rapace, Logan Marshall-Green, Michael Fa...</td>\n",
              "      <td>2012</td>\n",
              "      <td>124</td>\n",
              "      <td>7.0</td>\n",
              "      <td>485820</td>\n",
              "      <td>126.46</td>\n",
              "      <td>65.0</td>\n",
              "    </tr>\n",
              "    <tr>\n",
              "      <th>2</th>\n",
              "      <td>3</td>\n",
              "      <td>Split</td>\n",
              "      <td>Horror,Thriller</td>\n",
              "      <td>Three girls are kidnapped by a man with a diag...</td>\n",
              "      <td>M. Night Shyamalan</td>\n",
              "      <td>James McAvoy, Anya Taylor-Joy, Haley Lu Richar...</td>\n",
              "      <td>2016</td>\n",
              "      <td>117</td>\n",
              "      <td>7.3</td>\n",
              "      <td>157606</td>\n",
              "      <td>138.12</td>\n",
              "      <td>62.0</td>\n",
              "    </tr>\n",
              "  </tbody>\n",
              "</table>\n",
              "</div>"
            ],
            "text/plain": [
              "   Rank                    Title  ... Revenue (Millions) Metascore\n",
              "0     1  Guardians of the Galaxy  ...             333.13      76.0\n",
              "1     2               Prometheus  ...             126.46      65.0\n",
              "2     3                    Split  ...             138.12      62.0\n",
              "\n",
              "[3 rows x 12 columns]"
            ]
          },
          "metadata": {
            "tags": []
          },
          "execution_count": 29
        }
      ]
    },
    {
      "cell_type": "code",
      "metadata": {
        "colab": {
          "base_uri": "https://localhost:8080/"
        },
        "id": "APBgeY_O3D3z",
        "outputId": "5b1d6658-517f-4080-9c8d-c39b63500e42"
      },
      "source": [
        "movies_df.columns # vizualize column names"
      ],
      "execution_count": null,
      "outputs": [
        {
          "output_type": "execute_result",
          "data": {
            "text/plain": [
              "Index(['Rank', 'Title', 'Genre', 'Description', 'Director', 'Actors', 'Year',\n",
              "       'Runtime (Minutes)', 'Rating', 'Votes', 'Revenue (Millions)',\n",
              "       'Metascore'],\n",
              "      dtype='object')"
            ]
          },
          "metadata": {
            "tags": []
          },
          "execution_count": 30
        }
      ]
    },
    {
      "cell_type": "code",
      "metadata": {
        "id": "ZaAydodD2_P0"
      },
      "source": [
        "movies_df = movies_df.drop(['Rank', 'Description', 'Year'],axis=1) # remove unnecessary columns / the columns that we do not need "
      ],
      "execution_count": null,
      "outputs": []
    },
    {
      "cell_type": "code",
      "metadata": {
        "id": "qEEU2hZ907rJ"
      },
      "source": [
        "movies_df = movies_df.dropna() # remove missing (e.g. NaN) values from dataframe"
      ],
      "execution_count": null,
      "outputs": []
    },
    {
      "cell_type": "code",
      "metadata": {
        "id": "aFw_X1jn-uoY"
      },
      "source": [
        "genre_list = movies_df.Genre.values.tolist() # get genre column in a list"
      ],
      "execution_count": null,
      "outputs": []
    },
    {
      "cell_type": "code",
      "metadata": {
        "id": "mX5cYplM45X6",
        "colab": {
          "base_uri": "https://localhost:8080/"
        },
        "outputId": "56736daf-1c14-4d9c-a315-028777aaf803"
      },
      "source": [
        "genre_unique_names = movies_df.Genre.str.split(\",\").explode().unique().tolist() # get a list of all different unique genres in dataframe\n",
        "genre_unique_names"
      ],
      "execution_count": null,
      "outputs": [
        {
          "output_type": "execute_result",
          "data": {
            "text/plain": [
              "['Action',\n",
              " 'Adventure',\n",
              " 'Sci-Fi',\n",
              " 'Mystery',\n",
              " 'Horror',\n",
              " 'Thriller',\n",
              " 'Animation',\n",
              " 'Comedy',\n",
              " 'Family',\n",
              " 'Fantasy',\n",
              " 'Drama',\n",
              " 'Music',\n",
              " 'Biography',\n",
              " 'Romance',\n",
              " 'History',\n",
              " 'Western',\n",
              " 'Crime',\n",
              " 'War',\n",
              " 'Musical',\n",
              " 'Sport']"
            ]
          },
          "metadata": {
            "tags": []
          },
          "execution_count": 34
        }
      ]
    },
    {
      "cell_type": "code",
      "metadata": {
        "id": "JHqAUazH8im5"
      },
      "source": [
        "# create a new dataframe including Title (only for ease of reading) and unique genres columns\n",
        "bow_df = pd.DataFrame(columns = ['Title'] + genre_unique_names) "
      ],
      "execution_count": null,
      "outputs": []
    },
    {
      "cell_type": "code",
      "metadata": {
        "id": "gRUTjHhK819S",
        "colab": {
          "base_uri": "https://localhost:8080/",
          "height": 207
        },
        "outputId": "d030a27b-bb79-41dc-d51e-67adf46eb544"
      },
      "source": [
        "# for each movie(row), considering movie's genre(s) (taken from genre_list),\n",
        "# put 1 to the existing genre's column value for that movie, otherwise 0.\n",
        "for i in range(0,movies_df.shape[0]):\n",
        "  new_list = [movies_df.iloc[i,0]] + len(genre_unique_names)*[0] # create an initial empty row for current movie\n",
        "  current_genres = genre_list[i].replace(\"'\", \"\").split(\",\") # get a list of that movie's genre(s)\n",
        "  for element in current_genres: # for each genre of that movie\n",
        "    new_list[genre_unique_names.index(element)+1] = 1 # change related column value with 1\n",
        "  bow_df.loc[i] = new_list # update bow_df\n",
        "bow_df.head(3) # vizualize first 3 rows of bow_df (bag of words dataframe)"
      ],
      "execution_count": null,
      "outputs": [
        {
          "output_type": "execute_result",
          "data": {
            "text/html": [
              "<div>\n",
              "<style scoped>\n",
              "    .dataframe tbody tr th:only-of-type {\n",
              "        vertical-align: middle;\n",
              "    }\n",
              "\n",
              "    .dataframe tbody tr th {\n",
              "        vertical-align: top;\n",
              "    }\n",
              "\n",
              "    .dataframe thead th {\n",
              "        text-align: right;\n",
              "    }\n",
              "</style>\n",
              "<table border=\"1\" class=\"dataframe\">\n",
              "  <thead>\n",
              "    <tr style=\"text-align: right;\">\n",
              "      <th></th>\n",
              "      <th>Title</th>\n",
              "      <th>Action</th>\n",
              "      <th>Adventure</th>\n",
              "      <th>Sci-Fi</th>\n",
              "      <th>Mystery</th>\n",
              "      <th>Horror</th>\n",
              "      <th>Thriller</th>\n",
              "      <th>Animation</th>\n",
              "      <th>Comedy</th>\n",
              "      <th>Family</th>\n",
              "      <th>Fantasy</th>\n",
              "      <th>Drama</th>\n",
              "      <th>Music</th>\n",
              "      <th>Biography</th>\n",
              "      <th>Romance</th>\n",
              "      <th>History</th>\n",
              "      <th>Western</th>\n",
              "      <th>Crime</th>\n",
              "      <th>War</th>\n",
              "      <th>Musical</th>\n",
              "      <th>Sport</th>\n",
              "    </tr>\n",
              "  </thead>\n",
              "  <tbody>\n",
              "    <tr>\n",
              "      <th>0</th>\n",
              "      <td>Guardians of the Galaxy</td>\n",
              "      <td>1</td>\n",
              "      <td>1</td>\n",
              "      <td>1</td>\n",
              "      <td>0</td>\n",
              "      <td>0</td>\n",
              "      <td>0</td>\n",
              "      <td>0</td>\n",
              "      <td>0</td>\n",
              "      <td>0</td>\n",
              "      <td>0</td>\n",
              "      <td>0</td>\n",
              "      <td>0</td>\n",
              "      <td>0</td>\n",
              "      <td>0</td>\n",
              "      <td>0</td>\n",
              "      <td>0</td>\n",
              "      <td>0</td>\n",
              "      <td>0</td>\n",
              "      <td>0</td>\n",
              "      <td>0</td>\n",
              "    </tr>\n",
              "    <tr>\n",
              "      <th>1</th>\n",
              "      <td>Prometheus</td>\n",
              "      <td>0</td>\n",
              "      <td>1</td>\n",
              "      <td>1</td>\n",
              "      <td>1</td>\n",
              "      <td>0</td>\n",
              "      <td>0</td>\n",
              "      <td>0</td>\n",
              "      <td>0</td>\n",
              "      <td>0</td>\n",
              "      <td>0</td>\n",
              "      <td>0</td>\n",
              "      <td>0</td>\n",
              "      <td>0</td>\n",
              "      <td>0</td>\n",
              "      <td>0</td>\n",
              "      <td>0</td>\n",
              "      <td>0</td>\n",
              "      <td>0</td>\n",
              "      <td>0</td>\n",
              "      <td>0</td>\n",
              "    </tr>\n",
              "    <tr>\n",
              "      <th>2</th>\n",
              "      <td>Split</td>\n",
              "      <td>0</td>\n",
              "      <td>0</td>\n",
              "      <td>0</td>\n",
              "      <td>0</td>\n",
              "      <td>1</td>\n",
              "      <td>1</td>\n",
              "      <td>0</td>\n",
              "      <td>0</td>\n",
              "      <td>0</td>\n",
              "      <td>0</td>\n",
              "      <td>0</td>\n",
              "      <td>0</td>\n",
              "      <td>0</td>\n",
              "      <td>0</td>\n",
              "      <td>0</td>\n",
              "      <td>0</td>\n",
              "      <td>0</td>\n",
              "      <td>0</td>\n",
              "      <td>0</td>\n",
              "      <td>0</td>\n",
              "    </tr>\n",
              "  </tbody>\n",
              "</table>\n",
              "</div>"
            ],
            "text/plain": [
              "                     Title Action Adventure Sci-Fi  ... Crime War Musical Sport\n",
              "0  Guardians of the Galaxy      1         1      1  ...     0   0       0     0\n",
              "1               Prometheus      0         1      1  ...     0   0       0     0\n",
              "2                    Split      0         0      0  ...     0   0       0     0\n",
              "\n",
              "[3 rows x 21 columns]"
            ]
          },
          "metadata": {
            "tags": []
          },
          "execution_count": 36
        }
      ]
    },
    {
      "cell_type": "markdown",
      "metadata": {
        "id": "bHPMTDo5hdJt"
      },
      "source": [
        "**Task 2 and Task 3:**\n",
        "\n",
        "Using this new feature and some others try to understand whether the movie is GOOD or BAD. Good movie is if rating is greater and equal to 8, otherwise the movie is BAD. Calculate the precision and recall of your model."
      ]
    },
    {
      "cell_type": "code",
      "metadata": {
        "id": "z5bAQaPXobDC"
      },
      "source": [
        "# for a given rating x, it returns 1 if x is greater and equal to 8, otherwise it is 0\n",
        "def rating_function(x):\n",
        "  if x >= 8.0: return 1\n",
        "  else: return 0"
      ],
      "execution_count": null,
      "outputs": []
    },
    {
      "cell_type": "code",
      "metadata": {
        "id": "elQpQF0Rvwgx"
      },
      "source": [
        "# add useful features to our bag of words dataframe\n",
        "bow_df[\"Votes\"] = movies_df[\"Votes\"] # add Votes column to bow_df because Votes should be related with Ranking\n",
        "bow_df[\"Revenue (Millions)\"] = movies_df[\"Revenue (Millions)\"]  # add Revenue (Millions) column to bow_df because it shows how this movie is preferred\n",
        "bow_df[\"Metascore\"] = movies_df[\"Metascore\"]  # add Metascore column to bow_df because it gives an additional score information about data which is related with Ranking"
      ],
      "execution_count": null,
      "outputs": []
    },
    {
      "cell_type": "code",
      "metadata": {
        "id": "IpdlQB3WvJcM"
      },
      "source": [
        "bow_df[\"Rating_category\"] = movies_df.Rating.apply(rating_function) # add a Rating_category column with 0 and 1 values using rating_function"
      ],
      "execution_count": null,
      "outputs": []
    },
    {
      "cell_type": "code",
      "metadata": {
        "id": "pmQa0qr0vmcp",
        "colab": {
          "base_uri": "https://localhost:8080/",
          "height": 207
        },
        "outputId": "05587fc2-29e8-44c9-f6f6-f48a77d2c35c"
      },
      "source": [
        "bow_df.head(3) # vizualize first 3 rows of current bow_df"
      ],
      "execution_count": null,
      "outputs": [
        {
          "output_type": "execute_result",
          "data": {
            "text/html": [
              "<div>\n",
              "<style scoped>\n",
              "    .dataframe tbody tr th:only-of-type {\n",
              "        vertical-align: middle;\n",
              "    }\n",
              "\n",
              "    .dataframe tbody tr th {\n",
              "        vertical-align: top;\n",
              "    }\n",
              "\n",
              "    .dataframe thead th {\n",
              "        text-align: right;\n",
              "    }\n",
              "</style>\n",
              "<table border=\"1\" class=\"dataframe\">\n",
              "  <thead>\n",
              "    <tr style=\"text-align: right;\">\n",
              "      <th></th>\n",
              "      <th>Title</th>\n",
              "      <th>Action</th>\n",
              "      <th>Adventure</th>\n",
              "      <th>Sci-Fi</th>\n",
              "      <th>Mystery</th>\n",
              "      <th>Horror</th>\n",
              "      <th>Thriller</th>\n",
              "      <th>Animation</th>\n",
              "      <th>Comedy</th>\n",
              "      <th>Family</th>\n",
              "      <th>Fantasy</th>\n",
              "      <th>Drama</th>\n",
              "      <th>Music</th>\n",
              "      <th>Biography</th>\n",
              "      <th>Romance</th>\n",
              "      <th>History</th>\n",
              "      <th>Western</th>\n",
              "      <th>Crime</th>\n",
              "      <th>War</th>\n",
              "      <th>Musical</th>\n",
              "      <th>Sport</th>\n",
              "      <th>Votes</th>\n",
              "      <th>Revenue (Millions)</th>\n",
              "      <th>Metascore</th>\n",
              "      <th>Rating_category</th>\n",
              "    </tr>\n",
              "  </thead>\n",
              "  <tbody>\n",
              "    <tr>\n",
              "      <th>0</th>\n",
              "      <td>Guardians of the Galaxy</td>\n",
              "      <td>1</td>\n",
              "      <td>1</td>\n",
              "      <td>1</td>\n",
              "      <td>0</td>\n",
              "      <td>0</td>\n",
              "      <td>0</td>\n",
              "      <td>0</td>\n",
              "      <td>0</td>\n",
              "      <td>0</td>\n",
              "      <td>0</td>\n",
              "      <td>0</td>\n",
              "      <td>0</td>\n",
              "      <td>0</td>\n",
              "      <td>0</td>\n",
              "      <td>0</td>\n",
              "      <td>0</td>\n",
              "      <td>0</td>\n",
              "      <td>0</td>\n",
              "      <td>0</td>\n",
              "      <td>0</td>\n",
              "      <td>757074.0</td>\n",
              "      <td>333.13</td>\n",
              "      <td>76.0</td>\n",
              "      <td>1.0</td>\n",
              "    </tr>\n",
              "    <tr>\n",
              "      <th>1</th>\n",
              "      <td>Prometheus</td>\n",
              "      <td>0</td>\n",
              "      <td>1</td>\n",
              "      <td>1</td>\n",
              "      <td>1</td>\n",
              "      <td>0</td>\n",
              "      <td>0</td>\n",
              "      <td>0</td>\n",
              "      <td>0</td>\n",
              "      <td>0</td>\n",
              "      <td>0</td>\n",
              "      <td>0</td>\n",
              "      <td>0</td>\n",
              "      <td>0</td>\n",
              "      <td>0</td>\n",
              "      <td>0</td>\n",
              "      <td>0</td>\n",
              "      <td>0</td>\n",
              "      <td>0</td>\n",
              "      <td>0</td>\n",
              "      <td>0</td>\n",
              "      <td>485820.0</td>\n",
              "      <td>126.46</td>\n",
              "      <td>65.0</td>\n",
              "      <td>0.0</td>\n",
              "    </tr>\n",
              "    <tr>\n",
              "      <th>2</th>\n",
              "      <td>Split</td>\n",
              "      <td>0</td>\n",
              "      <td>0</td>\n",
              "      <td>0</td>\n",
              "      <td>0</td>\n",
              "      <td>1</td>\n",
              "      <td>1</td>\n",
              "      <td>0</td>\n",
              "      <td>0</td>\n",
              "      <td>0</td>\n",
              "      <td>0</td>\n",
              "      <td>0</td>\n",
              "      <td>0</td>\n",
              "      <td>0</td>\n",
              "      <td>0</td>\n",
              "      <td>0</td>\n",
              "      <td>0</td>\n",
              "      <td>0</td>\n",
              "      <td>0</td>\n",
              "      <td>0</td>\n",
              "      <td>0</td>\n",
              "      <td>157606.0</td>\n",
              "      <td>138.12</td>\n",
              "      <td>62.0</td>\n",
              "      <td>0.0</td>\n",
              "    </tr>\n",
              "  </tbody>\n",
              "</table>\n",
              "</div>"
            ],
            "text/plain": [
              "                     Title Action  ... Metascore Rating_category\n",
              "0  Guardians of the Galaxy      1  ...      76.0             1.0\n",
              "1               Prometheus      0  ...      65.0             0.0\n",
              "2                    Split      0  ...      62.0             0.0\n",
              "\n",
              "[3 rows x 25 columns]"
            ]
          },
          "metadata": {
            "tags": []
          },
          "execution_count": 40
        }
      ]
    },
    {
      "cell_type": "code",
      "metadata": {
        "colab": {
          "base_uri": "https://localhost:8080/",
          "height": 207
        },
        "id": "XNagZfAq4ya6",
        "outputId": "bbbad964-c81a-4238-81bd-3c0c9a9305e7"
      },
      "source": [
        "# The range of columns (Votes, Revenues, Metascore and Genres) vary too much. Therefore, we apply a normalization to make 0-1 range all columns\n",
        "# This will help with the machine learning (otherwise, e.g. algorithm can focus more to Votes and not care about genres)\n",
        "df_min_max_scaled = movies_df.copy()\n",
        "bow_df['Votes'] = (df_min_max_scaled['Votes'] - df_min_max_scaled['Votes'].min()) / (df_min_max_scaled['Votes'].max() - df_min_max_scaled['Votes'].min())    \n",
        "bow_df['Revenue (Millions)'] = (df_min_max_scaled['Revenue (Millions)'] - df_min_max_scaled['Revenue (Millions)'].min()) / (df_min_max_scaled['Revenue (Millions)'].max() - df_min_max_scaled['Revenue (Millions)'].min())    \n",
        "bow_df['Metascore'] = (df_min_max_scaled['Metascore'] - df_min_max_scaled['Metascore'].min()) / (df_min_max_scaled['Metascore'].max() - df_min_max_scaled['Metascore'].min())    \n",
        "bow_df.head(3) # vizualize first 3 rows of normalized bow_df"
      ],
      "execution_count": null,
      "outputs": [
        {
          "output_type": "execute_result",
          "data": {
            "text/html": [
              "<div>\n",
              "<style scoped>\n",
              "    .dataframe tbody tr th:only-of-type {\n",
              "        vertical-align: middle;\n",
              "    }\n",
              "\n",
              "    .dataframe tbody tr th {\n",
              "        vertical-align: top;\n",
              "    }\n",
              "\n",
              "    .dataframe thead th {\n",
              "        text-align: right;\n",
              "    }\n",
              "</style>\n",
              "<table border=\"1\" class=\"dataframe\">\n",
              "  <thead>\n",
              "    <tr style=\"text-align: right;\">\n",
              "      <th></th>\n",
              "      <th>Title</th>\n",
              "      <th>Action</th>\n",
              "      <th>Adventure</th>\n",
              "      <th>Sci-Fi</th>\n",
              "      <th>Mystery</th>\n",
              "      <th>Horror</th>\n",
              "      <th>Thriller</th>\n",
              "      <th>Animation</th>\n",
              "      <th>Comedy</th>\n",
              "      <th>Family</th>\n",
              "      <th>Fantasy</th>\n",
              "      <th>Drama</th>\n",
              "      <th>Music</th>\n",
              "      <th>Biography</th>\n",
              "      <th>Romance</th>\n",
              "      <th>History</th>\n",
              "      <th>Western</th>\n",
              "      <th>Crime</th>\n",
              "      <th>War</th>\n",
              "      <th>Musical</th>\n",
              "      <th>Sport</th>\n",
              "      <th>Votes</th>\n",
              "      <th>Revenue (Millions)</th>\n",
              "      <th>Metascore</th>\n",
              "      <th>Rating_category</th>\n",
              "    </tr>\n",
              "  </thead>\n",
              "  <tbody>\n",
              "    <tr>\n",
              "      <th>0</th>\n",
              "      <td>Guardians of the Galaxy</td>\n",
              "      <td>1</td>\n",
              "      <td>1</td>\n",
              "      <td>1</td>\n",
              "      <td>0</td>\n",
              "      <td>0</td>\n",
              "      <td>0</td>\n",
              "      <td>0</td>\n",
              "      <td>0</td>\n",
              "      <td>0</td>\n",
              "      <td>0</td>\n",
              "      <td>0</td>\n",
              "      <td>0</td>\n",
              "      <td>0</td>\n",
              "      <td>0</td>\n",
              "      <td>0</td>\n",
              "      <td>0</td>\n",
              "      <td>0</td>\n",
              "      <td>0</td>\n",
              "      <td>0</td>\n",
              "      <td>0</td>\n",
              "      <td>0.422437</td>\n",
              "      <td>0.355669</td>\n",
              "      <td>0.730337</td>\n",
              "      <td>1.0</td>\n",
              "    </tr>\n",
              "    <tr>\n",
              "      <th>1</th>\n",
              "      <td>Prometheus</td>\n",
              "      <td>0</td>\n",
              "      <td>1</td>\n",
              "      <td>1</td>\n",
              "      <td>1</td>\n",
              "      <td>0</td>\n",
              "      <td>0</td>\n",
              "      <td>0</td>\n",
              "      <td>0</td>\n",
              "      <td>0</td>\n",
              "      <td>0</td>\n",
              "      <td>0</td>\n",
              "      <td>0</td>\n",
              "      <td>0</td>\n",
              "      <td>0</td>\n",
              "      <td>0</td>\n",
              "      <td>0</td>\n",
              "      <td>0</td>\n",
              "      <td>0</td>\n",
              "      <td>0</td>\n",
              "      <td>0</td>\n",
              "      <td>0.271045</td>\n",
              "      <td>0.135016</td>\n",
              "      <td>0.606742</td>\n",
              "      <td>0.0</td>\n",
              "    </tr>\n",
              "    <tr>\n",
              "      <th>2</th>\n",
              "      <td>Split</td>\n",
              "      <td>0</td>\n",
              "      <td>0</td>\n",
              "      <td>0</td>\n",
              "      <td>0</td>\n",
              "      <td>1</td>\n",
              "      <td>1</td>\n",
              "      <td>0</td>\n",
              "      <td>0</td>\n",
              "      <td>0</td>\n",
              "      <td>0</td>\n",
              "      <td>0</td>\n",
              "      <td>0</td>\n",
              "      <td>0</td>\n",
              "      <td>0</td>\n",
              "      <td>0</td>\n",
              "      <td>0</td>\n",
              "      <td>0</td>\n",
              "      <td>0</td>\n",
              "      <td>0</td>\n",
              "      <td>0</td>\n",
              "      <td>0.087863</td>\n",
              "      <td>0.147465</td>\n",
              "      <td>0.573034</td>\n",
              "      <td>0.0</td>\n",
              "    </tr>\n",
              "  </tbody>\n",
              "</table>\n",
              "</div>"
            ],
            "text/plain": [
              "                     Title Action  ... Metascore Rating_category\n",
              "0  Guardians of the Galaxy      1  ...  0.730337             1.0\n",
              "1               Prometheus      0  ...  0.606742             0.0\n",
              "2                    Split      0  ...  0.573034             0.0\n",
              "\n",
              "[3 rows x 25 columns]"
            ]
          },
          "metadata": {
            "tags": []
          },
          "execution_count": 41
        }
      ]
    },
    {
      "cell_type": "code",
      "metadata": {
        "id": "3Xe8Lkwu1fiV"
      },
      "source": [
        "bow_df = bow_df.dropna() # Remove NaN values from current dataframe (otherwise, they will generate error during training)"
      ],
      "execution_count": null,
      "outputs": []
    },
    {
      "cell_type": "code",
      "metadata": {
        "id": "cueavSxCv4Hz"
      },
      "source": [
        "# create variables\n",
        "X = bow_df[['Action', 'Adventure', 'Sci-Fi', 'Mystery', 'Horror', 'Thriller', 'Animation', 'Comedy', 'Family', 'Fantasy', 'Drama', 'Music', 'Biography',\n",
        "        'Romance', 'History', 'Crime', 'Western', 'War', 'Musical', 'Sport', 'Votes', 'Revenue (Millions)', 'Metascore']] # get input columns (we did not take Title)\n",
        "y = bow_df['Rating_category'] # get target column"
      ],
      "execution_count": null,
      "outputs": []
    },
    {
      "cell_type": "code",
      "metadata": {
        "id": "3kJqp7J0wo_2",
        "colab": {
          "base_uri": "https://localhost:8080/",
          "height": 438
        },
        "outputId": "0f9af73d-2e49-4b6e-e81a-0d61826a8712"
      },
      "source": [
        "# Classification - Binary classification between good (1) and bad (0) movies\n",
        "# Use of train test split (I also tried with 5 and 10 fold crossvalidation)\n",
        "# Use of decision tree classifier for binary classification (I also used logistic regression, svm and some other classifiers)\n",
        "# I reported best results (without overfitting)\n",
        "# 0 is used for BAD - 1 is used for GOOD \n",
        "\n",
        "from sklearn.model_selection import cross_val_score\n",
        "from sklearn.tree import DecisionTreeClassifier\n",
        "from sklearn.model_selection import GridSearchCV\n",
        "import seaborn as sn\n",
        "import matplotlib.pyplot as plt\n",
        "from sklearn.metrics import classification_report\n",
        "from sklearn.model_selection import train_test_split\n",
        "from imblearn.over_sampling import SMOTE\n",
        "\n",
        "X_train, X_test, y_train, y_test = train_test_split(\n",
        "    X, y, test_size=0.10, random_state=42)\n",
        "\n",
        "parameters_dt = {'max_depth':range(10,20)}\n",
        "clf_dt = GridSearchCV(DecisionTreeClassifier(), parameters_dt) # Apply gridsearch to find the best parameters/fine-tune the model\n",
        "\n",
        "clf_dt.fit(X_train, y_train) # fit the training data to the model\n",
        "y_pred_dt = clf_dt.best_estimator_.predict(X_test) # give test data and get predicted target values (1 or 0 = good or bad)\n",
        "\n",
        "# By using predicted y values and the real y values we calculate performance metrics.\n",
        "# For ease of reading, we also give a heatmap\n",
        "confusion_matrix_dt = pd.crosstab(y_test, y_pred_dt, rownames=['True label'], colnames=['Predicted label'])\n",
        "sn.heatmap(confusion_matrix_dt, annot=True)\n",
        "print(classification_report(y_test, y_pred_dt, target_names=['good: 1','bad: 0']))\n",
        "plt.show()"
      ],
      "execution_count": null,
      "outputs": [
        {
          "output_type": "stream",
          "text": [
            "              precision    recall  f1-score   support\n",
            "\n",
            "     good: 1       0.92      0.97      0.94        61\n",
            "      bad: 0       0.75      0.55      0.63        11\n",
            "\n",
            "    accuracy                           0.90        72\n",
            "   macro avg       0.84      0.76      0.79        72\n",
            "weighted avg       0.90      0.90      0.90        72\n",
            "\n"
          ],
          "name": "stdout"
        },
        {
          "output_type": "display_data",
          "data": {
            "image/png": "[encoded data removed]",
            "text/plain": [
              "<Figure size 432x288 with 2 Axes>"
            ]
          },
          "metadata": {
            "tags": [],
            "needs_background": "light"
          }
        }
      ]
    }
  ]
}